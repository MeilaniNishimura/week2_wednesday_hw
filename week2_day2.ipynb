{
 "cells": [
  {
   "cell_type": "code",
   "execution_count": null,
   "id": "ca58a3b4",
   "metadata": {},
   "outputs": [
    {
     "name": "stdout",
     "output_type": "stream",
     "text": [
      "Would you like to continue shopping? Y/N y\n",
      "Would you like to see your current shopping list? Y/N n\n",
      "Would you like to delete any items from your list? Y/N n\n",
      "What items would you like to add to your shopping cart? Eggs, cheese, milk ,fruit, veggies, or meat?eggs\n",
      "Great! This is your shopping list.\n",
      "['eggs']\n"
     ]
    }
   ],
   "source": [
    "def shopping_cart():\n",
    "    \n",
    "    shopping_list=[]\n",
    "    \n",
    "    done=False\n",
    "    \n",
    "    while not done:\n",
    "        decision1= input(\"Would you like to continue shopping? Y/N \").lower()\n",
    "        \n",
    "        if decision1 == \"n\":\n",
    "            print(\"Thank you for shopping with us today! Here's your current shopping list. \")\n",
    "            print(shopping_list)\n",
    "            break\n",
    "        \n",
    "        if decision1== \"y\":\n",
    "            done=False\n",
    "            \n",
    "        decision2 = input(\"Would you like to see your current shopping list? Y/N \").lower()\n",
    "        if decision2 == \"n\":\n",
    "            done=False\n",
    "            \n",
    "        if decision2 == \"y\":\n",
    "            print(shopping_list)\n",
    "            \n",
    "        decision3= input(\"Would you like to delete any items from your list? Y/N \").lower()\n",
    "        if decision3 == \"n\":\n",
    "            done=False\n",
    "            \n",
    "        if decision3 == \"y\":\n",
    "            input(\"What items would you like to delete? eggs, cheese, milk, fruit, veggies, or meat? \").lower()\n",
    "            if \"eggs\" and \"eggs\" in shopping_list:\n",
    "                shopping_list.remove(\"eggs\")\n",
    "                print(\"Great! This is your shopping list. \")\n",
    "                print(shopping_list)\n",
    "                \n",
    "            if \"cheese\" and \"cheese\" in shopping_list:\n",
    "                shopping_list.remove(\"cheese\")\n",
    "                print(\"Great! This is your shopping list. \")\n",
    "                print(shopping_list)\n",
    "                \n",
    "            if \"milk\" and \"milk\" in shopping_list:\n",
    "                shopping_list.remove(\"milk\")\n",
    "                print(\"Great! This is your shopping list. \")\n",
    "                print(shopping_list)\n",
    "                \n",
    "            if \"fruit\" and \"fruit\" in shopping_list:\n",
    "                shopping_list.remove(\"fruit\")\n",
    "                print(\"Great! This is your shopping list. \")\n",
    "                print(shopping_list)\n",
    "                \n",
    "            if \"veggies\" and \"veggies\" in shopping_list:\n",
    "                shopping_list.remove(\"eggs\")\n",
    "                print(\"Great! This is your shopping list. \")\n",
    "                print(shopping_list)\n",
    "                \n",
    "            if \"meat\" and \"meat\" in shopping_list:\n",
    "                shopping_list.remove(\"eggs\")\n",
    "                print(\"Great! This is your shopping list. \")\n",
    "                print(shopping_list)\n",
    "                \n",
    "            \n",
    "        \n",
    "        decision = input(\"What items would you like to add to your shopping cart? Eggs, cheese, milk ,fruit, veggies, or meat?\").lower()\n",
    "        \n",
    "        if decision == \"eggs\":\n",
    "            shopping_list.append(\"eggs\")\n",
    "            print(\"Great! This is your shopping list.\")\n",
    "            print(shopping_list)\n",
    "            \n",
    "       \n",
    "        if decision == (\"cheese\"):\n",
    "            shopping_list.append(\"cheese\")\n",
    "            print(\"Great! This is your shopping list.\")\n",
    "            print(shopping_list)\n",
    "          \n",
    "        \n",
    "        if decision == (\"milk\"):\n",
    "            shopping_list.append(\"milk\")\n",
    "            print(\"Great! This is your shopping list.\")\n",
    "            print(shopping_list)\n",
    "           \n",
    "        \n",
    "        if decision == (\"fruit\"):\n",
    "            shopping_list.append(\"fruit\")\n",
    "            print(\"Great! This is your shopping list.\")\n",
    "            print(shopping_list)\n",
    "           \n",
    "        \n",
    "        if decision == (\"veggies\"):\n",
    "            shopping_list.append(\"veggies\")\n",
    "            print(\"Great! This is your shopping list.\")\n",
    "            print(shopping_list)\n",
    "           \n",
    "        \n",
    "        if decision == (\"meat\"):\n",
    "            shopping_list.append(\"meat\")\n",
    "            print(\"Great! This is your shopping list.\")\n",
    "            print(shopping_list)\n",
    "           \n",
    "\n",
    "shopping_cart()"
   ]
  },
  {
   "cell_type": "code",
   "execution_count": 1,
   "id": "421077d1",
   "metadata": {},
   "outputs": [
    {
     "name": "stderr",
     "output_type": "stream",
     "text": [
      "UsageError: Line magic function `%run./calculations-execute` not found.\n"
     ]
    }
   ],
   "source": [
    "%run./calculations-execute\n",
    "square_footage, circumference"
   ]
  },
  {
   "cell_type": "code",
   "execution_count": null,
   "id": "fd9db5e0",
   "metadata": {},
   "outputs": [],
   "source": []
  }
 ],
 "metadata": {
  "kernelspec": {
   "display_name": "Python 3 (ipykernel)",
   "language": "python",
   "name": "python3"
  },
  "language_info": {
   "codemirror_mode": {
    "name": "ipython",
    "version": 3
   },
   "file_extension": ".py",
   "mimetype": "text/x-python",
   "name": "python",
   "nbconvert_exporter": "python",
   "pygments_lexer": "ipython3",
   "version": "3.9.12"
  }
 },
 "nbformat": 4,
 "nbformat_minor": 5
}
