{
 "cells": [
  {
   "cell_type": "code",
   "execution_count": 8,
   "id": "f657761f",
   "metadata": {},
   "outputs": [
    {
     "name": "stdout",
     "output_type": "stream",
     "text": [
      "50\n"
     ]
    }
   ],
   "source": [
    "def calculator(a,operation,b):\n",
    "    if operation == \"add\":\n",
    "        return a+b\n",
    "    if operation == \"subtract\":\n",
    "        return a-b\n",
    "    if operation == \"multiply\":\n",
    "        return a*b\n",
    "    if operation == \"divide\":\n",
    "        return a/b\n",
    "    \n",
    "#test run\n",
    "\n",
    "print(calculator(5, \"multiply\" , 10))"
   ]
  },
  {
   "cell_type": "code",
   "execution_count": 7,
   "id": "8067076c",
   "metadata": {},
   "outputs": [],
   "source": [
    "#I tried everything I know about python and also googled the answer and still could not get this"
   ]
  }
 ],
 "metadata": {
  "kernelspec": {
   "display_name": "Python 3 (ipykernel)",
   "language": "python",
   "name": "python3"
  },
  "language_info": {
   "codemirror_mode": {
    "name": "ipython",
    "version": 3
   },
   "file_extension": ".py",
   "mimetype": "text/x-python",
   "name": "python",
   "nbconvert_exporter": "python",
   "pygments_lexer": "ipython3",
   "version": "3.9.12"
  }
 },
 "nbformat": 4,
 "nbformat_minor": 5
}
